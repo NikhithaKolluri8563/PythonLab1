{
  "nbformat": 4,
  "nbformat_minor": 0,
  "metadata": {
    "colab": {
      "name": "LAB1_5.ipynb",
      "provenance": [],
      "collapsed_sections": []
    },
    "kernelspec": {
      "name": "python3",
      "display_name": "Python 3"
    }
  },
  "cells": [
    {
      "cell_type": "code",
      "metadata": {
        "id": "UTdwfyaaBrgj",
        "colab_type": "code",
        "outputId": "248f52cf-4f85-4827-d2a5-07d0da48db52",
        "colab": {
          "base_uri": "https://localhost:8080/",
          "height": 426
        }
      },
      "source": [
        "import pandas as pd\n",
        "from sklearn.model_selection import train_test_split\n",
        "from sklearn.metrics import classification_report\n",
        "from sklearn.preprocessing import LabelEncoder\n",
        "\n",
        "#Reading File From Drive\n",
        "train_df = pd.read_csv('/content/drive/My Drive/Colab Notebooks/glass_type.csv')\n",
        "#using LaberlEncoder for transforming non numeric type to numeric one\n",
        "Label_Encoder = LabelEncoder()\n",
        "\n",
        "#Here we are transforming Glass type value to numeric value\n",
        "train_df[\"Type\"] = Label_Encoder.fit_transform(train_df[\"Type\"])\n",
        "#Here we are filling the null values with mean value(adding noise data)\n",
        "train_df=train_df.apply(lambda x: x.fillna(x.mean()),axis=0)\n",
        "print(train_df[\"Type\"])\n",
        "print(train_df.isnull().sum())\n",
        "#dropping the predicting value from training data\n",
        "X_train = train_df.drop(\"Type\",axis=1)\n",
        "Y_train = train_df[\"Type\"]\n",
        "\n",
        "#using the inbuild function for splitting train data and test data\n",
        "X_train, X_test, Y_train, y_test= train_test_split(X_train, Y_train, test_size=0.4, random_state=0)"
      ],
      "execution_count": 3,
      "outputs": [
        {
          "output_type": "stream",
          "text": [
            "0      2\n",
            "1      2\n",
            "2      2\n",
            "3      2\n",
            "4      2\n",
            "      ..\n",
            "209    5\n",
            "210    5\n",
            "211    5\n",
            "212    5\n",
            "213    5\n",
            "Name: Type, Length: 214, dtype: int64\n",
            "RI      0\n",
            "Na      0\n",
            "Mg      0\n",
            "Al      0\n",
            "Si      0\n",
            "K       0\n",
            "Ca      0\n",
            "Ba      0\n",
            "Fe      0\n",
            "Type    0\n",
            "dtype: int64\n"
          ],
          "name": "stdout"
        }
      ]
    },
    {
      "cell_type": "code",
      "metadata": {
        "id": "_YROs-3os3WI",
        "colab_type": "code",
        "outputId": "2d6d44e4-df1e-4eeb-ca8e-b83df3b66409",
        "colab": {
          "base_uri": "https://localhost:8080/",
          "height": 126
        }
      },
      "source": [
        "from google.colab import drive\n",
        "drive.mount('/content/drive')"
      ],
      "execution_count": 2,
      "outputs": [
        {
          "output_type": "stream",
          "text": [
            "Go to this URL in a browser: https://accounts.google.com/o/oauth2/auth?client_id=947318989803-6bn6qk8qdgf4n4g3pfee6491hc0brc4i.apps.googleusercontent.com&redirect_uri=urn%3aietf%3awg%3aoauth%3a2.0%3aoob&response_type=code&scope=email%20https%3a%2f%2fwww.googleapis.com%2fauth%2fdocs.test%20https%3a%2f%2fwww.googleapis.com%2fauth%2fdrive%20https%3a%2f%2fwww.googleapis.com%2fauth%2fdrive.photos.readonly%20https%3a%2f%2fwww.googleapis.com%2fauth%2fpeopleapi.readonly\n",
            "\n",
            "Enter your authorization code:\n",
            "··········\n",
            "Mounted at /content/drive\n"
          ],
          "name": "stdout"
        }
      ]
    },
    {
      "cell_type": "code",
      "metadata": {
        "id": "22vwn3HqoEyu",
        "colab_type": "code",
        "outputId": "309b9f01-413c-46dc-d955-3eccad63f9e2",
        "colab": {
          "base_uri": "https://localhost:8080/",
          "height": 35
        }
      },
      "source": [
        "#GNB  (Gaussian Navie Bayes Classifier)\n",
        "from sklearn.naive_bayes import GaussianNB \n",
        "\n",
        "GNB = GaussianNB()\n",
        "\n",
        "y_pred = GNB.fit(X_train, Y_train).predict(X_test)\n",
        "GNB.fit(X_train, Y_train)\n",
        "Y_pred = GNB.predict(X_test)\n",
        "ACC_GNB = round(GNB.score(X_train, Y_train) * 100, 2)\n",
        "print(\"GNB accuracy is:\",ACC_GNB)"
      ],
      "execution_count": 4,
      "outputs": [
        {
          "output_type": "stream",
          "text": [
            "GNB accuracy is: 42.97\n"
          ],
          "name": "stdout"
        }
      ]
    },
    {
      "cell_type": "code",
      "metadata": {
        "id": "CxIbDsRqwKvy",
        "colab_type": "code",
        "outputId": "2dede161-4e06-42cd-ffbd-81765eedb331",
        "colab": {
          "base_uri": "https://localhost:8080/",
          "height": 35
        }
      },
      "source": [
        "#KNN (K-NeighborsClassifier)\n",
        "from sklearn.neighbors import KNeighborsClassifier\n",
        "\n",
        "KNN = KNeighborsClassifier(n_neighbors = 3)\n",
        "KNN.fit(X_train, Y_train)\n",
        "Y_pred = KNN.predict(X_test)\n",
        "ACC_KNN = round(KNN.score(X_train, Y_train) * 100, 2)\n",
        "print(\"KNN accuracy is:\",ACC_KNN)"
      ],
      "execution_count": 5,
      "outputs": [
        {
          "output_type": "stream",
          "text": [
            "KNN accuracy is: 82.03\n"
          ],
          "name": "stdout"
        }
      ]
    },
    {
      "cell_type": "code",
      "metadata": {
        "id": "MaBaKcBDxQ23",
        "colab_type": "code",
        "outputId": "58ae1359-7efa-47f8-836a-d4b5ee341ea2",
        "colab": {
          "base_uri": "https://localhost:8080/",
          "height": 35
        }
      },
      "source": [
        "#SVM\n",
        "from sklearn.svm import SVC, LinearSVC\n",
        "\n",
        "SVC = SVC()\n",
        "SVC.fit(X_train, Y_train)\n",
        "Y_pred = SVC.predict(X_test)\n",
        "ACC_SVC = round(svc.score(X_train, Y_train) * 100, 2)\n",
        "print(\"svm accuracy is:\", ACC_SVC)"
      ],
      "execution_count": 6,
      "outputs": [
        {
          "output_type": "stream",
          "text": [
            "svm accuracy is: 33.59\n"
          ],
          "name": "stdout"
        }
      ]
    }
  ]
}