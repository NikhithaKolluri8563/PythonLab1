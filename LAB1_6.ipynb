{
  "nbformat": 4,
  "nbformat_minor": 0,
  "metadata": {
    "colab": {
      "name": "LAB1_6.ipynb",
      "provenance": [],
      "collapsed_sections": []
    },
    "kernelspec": {
      "name": "python3",
      "display_name": "Python 3"
    }
  },
  "cells": [
    {
      "cell_type": "code",
      "metadata": {
        "id": "SCpfxP6w731P",
        "colab_type": "code",
        "colab": {}
      },
      "source": [
        "import pandas as pd\n",
        "import seaborn as sns\n",
        "sns.set(style=\"white\", color_codes=True)\n",
        "import warnings\n",
        "warnings.filterwarnings(\"ignore\")\n",
        "\n",
        "#Reading the Data\n",
        "data = pd.read_csv('/content/drive/My Drive/Colab Notebooks/CC.csv')\n"
      ],
      "execution_count": 0,
      "outputs": []
    },
    {
      "cell_type": "code",
      "metadata": {
        "id": "tdL2iYryDS71",
        "colab_type": "code",
        "colab": {
          "base_uri": "https://localhost:8080/",
          "height": 337
        },
        "outputId": "1d6e7282-ca84-4f85-b911-b767949c9003"
      },
      "source": [
        "#Removing the unrequired columns\n",
        "x = data.iloc[:,[1,2,3,4,5,6,7,8,9,10,11,12,13,14,15,16,17]]\n",
        "#Filling all the null values with mean\n",
        "x=x.apply(lambda x: x.fillna(x.mean()),axis=0)\n",
        "print(x.isnull().sum())"
      ],
      "execution_count": 5,
      "outputs": [
        {
          "output_type": "stream",
          "text": [
            "BALANCE                             0\n",
            "BALANCE_FREQUENCY                   0\n",
            "PURCHASES                           0\n",
            "ONEOFF_PURCHASES                    0\n",
            "INSTALLMENTS_PURCHASES              0\n",
            "CASH_ADVANCE                        0\n",
            "PURCHASES_FREQUENCY                 0\n",
            "ONEOFF_PURCHASES_FREQUENCY          0\n",
            "PURCHASES_INSTALLMENTS_FREQUENCY    0\n",
            "CASH_ADVANCE_FREQUENCY              0\n",
            "CASH_ADVANCE_TRX                    0\n",
            "PURCHASES_TRX                       0\n",
            "CREDIT_LIMIT                        0\n",
            "PAYMENTS                            0\n",
            "MINIMUM_PAYMENTS                    0\n",
            "PRC_FULL_PAYMENT                    0\n",
            "TENURE                              0\n",
            "dtype: int64\n"
          ],
          "name": "stdout"
        }
      ]
    },
    {
      "cell_type": "code",
      "metadata": {
        "id": "iHSl4_T2CfV_",
        "colab_type": "code",
        "colab": {}
      },
      "source": [
        "# Standardize features by removing the mean and scaling to unit variance\n",
        "from sklearn.preprocessing import StandardScaler\n",
        "scaler = StandardScaler()# Fit on training set only.\n",
        "scaler.fit(x)\n",
        "# Apply transform to both the training set and the test set.\n",
        "x= scaler.transform(x)\n",
        "X_scaled_array=scaler.transform(x)\n",
        "X_scaled=pd.DataFrame(X_scaled_array)\n",
        "x=X_scaled"
      ],
      "execution_count": 0,
      "outputs": []
    },
    {
      "cell_type": "code",
      "metadata": {
        "id": "_hNYWezmElNl",
        "colab_type": "code",
        "colab": {
          "base_uri": "https://localhost:8080/",
          "height": 301
        },
        "outputId": "ef8c162d-1cc1-4a0d-8959-ab7f5e55f62a"
      },
      "source": [
        "#Plotting the Elbow Graph for best K value\n",
        "from sklearn.cluster import KMeans\n",
        "import matplotlib.pyplot as plt\n",
        "wcss=[]\n",
        "for i in range(1,11):\n",
        "    kmeans= KMeans(n_clusters=i,init='k-means++',max_iter=300,n_init=10,random_state=0)\n",
        "    kmeans.fit(x)\n",
        "    wcss.append(kmeans.inertia_)\n",
        "plt.plot(range(1,11),wcss)\n",
        "plt.title('the elbow method')\n",
        "plt.xlabel('Number of Clusters')\n",
        "plt.ylabel('Wcss')\n",
        "plt.show()"
      ],
      "execution_count": 8,
      "outputs": [
        {
          "output_type": "display_data",
          "data": {
            "image/png": "[encoded data removed]",
            "text/plain": [
              "<Figure size 432x288 with 1 Axes>"
            ]
          },
          "metadata": {
            "tags": []
          }
        }
      ]
    },
    {
      "cell_type": "code",
      "metadata": {
        "id": "dpLpkJfPFMld",
        "colab_type": "code",
        "colab": {}
      },
      "source": [
        "#WE GOT K=3\n",
        "#Building the model\n",
        "from sklearn.cluster import KMeans\n",
        "nclusters = 3              # this is the k in kmeans\n",
        "km = KMeans(n_clusters=nclusters)\n",
        "km.fit(x)\n",
        "\n",
        "# predict the cluster for each data point\n",
        "y_cluster_kmeans = km.predict(x)"
      ],
      "execution_count": 0,
      "outputs": []
    },
    {
      "cell_type": "code",
      "metadata": {
        "id": "oFq2BCaFFb1U",
        "colab_type": "code",
        "colab": {
          "base_uri": "https://localhost:8080/",
          "height": 35
        },
        "outputId": "16a12f04-0658-4efe-e86c-d6d01b280196"
      },
      "source": [
        "#Silhouette Score\n",
        "from sklearn import metrics\n",
        "score = metrics.silhouette_score(x, y_cluster_kmeans)\n",
        "print(score)\n"
      ],
      "execution_count": 12,
      "outputs": [
        {
          "output_type": "stream",
          "text": [
            "0.330629590702156\n"
          ],
          "name": "stdout"
        }
      ]
    }
  ]
}