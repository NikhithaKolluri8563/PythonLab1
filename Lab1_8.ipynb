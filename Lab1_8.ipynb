{
  "nbformat": 4,
  "nbformat_minor": 0,
  "metadata": {
    "colab": {
      "name": "Lab1_8.ipynb",
      "provenance": [],
      "collapsed_sections": []
    },
    "kernelspec": {
      "name": "python3",
      "display_name": "Python 3"
    }
  },
  "cells": [
    {
      "cell_type": "code",
      "metadata": {
        "id": "I19_dnjrlQYx",
        "colab_type": "code",
        "colab": {}
      },
      "source": [
        "import pandas as pd\n",
        "import numpy as np\n",
        "\n",
        "\n",
        "dataset = pd.read_csv('/content/drive/My Drive/Colab Notebooks/winequality-red.csv')\n",
        "\n",
        "X=dataset.drop(['quality'],axis=1)\n",
        "Y=dataset[['quality']]\n",
        "\n",
        "\n"
      ],
      "execution_count": 0,
      "outputs": []
    },
    {
      "cell_type": "code",
      "metadata": {
        "id": "bW6v-dT1nXHv",
        "colab_type": "code",
        "colab": {
          "base_uri": "https://localhost:8080/",
          "height": 35
        },
        "outputId": "220845f3-0de9-4544-cbf9-6e4255b9e5fa"
      },
      "source": [
        "#training the Model\n",
        "from sklearn import linear_model\n",
        "MR = linear_model.LinearRegression()\n",
        "MR.fit(X, Y)\n"
      ],
      "execution_count": 2,
      "outputs": [
        {
          "output_type": "execute_result",
          "data": {
            "text/plain": [
              "LinearRegression(copy_X=True, fit_intercept=True, n_jobs=None, normalize=False)"
            ]
          },
          "metadata": {
            "tags": []
          },
          "execution_count": 2
        }
      ]
    },
    {
      "cell_type": "code",
      "metadata": {
        "id": "XoJ0PDcKn3Ey",
        "colab_type": "code",
        "colab": {
          "base_uri": "https://localhost:8080/",
          "height": 52
        },
        "outputId": "09157d8e-6037-408b-d22b-b50566f3c685"
      },
      "source": [
        "#Before EDA\n",
        "from sklearn.metrics import mean_squared_error, r2_score\n",
        "y_pred=MR.predict(X)\n",
        "\n",
        "print(\"R^2(VARIANCE): %.2f\" % r2_score(Y,y_pred))      # varience\n",
        "print(\"RMSE(MEAN_SQUARED_ERROR): %.2f\" % mean_squared_error(Y,y_pred))  #squaring errors for removing negative values\n"
      ],
      "execution_count": 12,
      "outputs": [
        {
          "output_type": "stream",
          "text": [
            "R^2(VARIANCE): 0.35\n",
            "RMSE(MEAN_SQUARED_ERROR): 0.42\n"
          ],
          "name": "stdout"
        }
      ]
    },
    {
      "cell_type": "code",
      "metadata": {
        "id": "RhrGR7-HoRFr",
        "colab_type": "code",
        "colab": {
          "base_uri": "https://localhost:8080/",
          "height": 248
        },
        "outputId": "8bf6412a-2479-419c-f7e9-5bb9bc5c1178"
      },
      "source": [
        "from sklearn.model_selection import train_test_split\n",
        "#removing null values\n",
        "#Reading File From Drive\n",
        "train_df = pd.read_csv('/content/drive/My Drive/Colab Notebooks/winequality-red.csv')\n",
        "#filling the null values with mean\n",
        "train_df=train_df.apply(lambda x: x.fillna(x.mean()),axis=0)\n",
        "print(train_df.isnull().sum())\n",
        "#dropping the predicting value from training data\n",
        "X_train = train_df.drop(\"quality\",axis=1)\n",
        "Y_train = train_df[\"quality\"]\n",
        "\n",
        "#using the inbuild function for splitting train data and test data\n",
        "X_train, X_test, Y_train, y_test= train_test_split(X_train, Y_train, test_size=0.4, random_state=0)"
      ],
      "execution_count": 8,
      "outputs": [
        {
          "output_type": "stream",
          "text": [
            "fixed acidity           0\n",
            "volatile acidity        0\n",
            "citric acid             0\n",
            "residual sugar          0\n",
            "chlorides               0\n",
            "free sulfur dioxide     0\n",
            "total sulfur dioxide    0\n",
            "density                 0\n",
            "pH                      0\n",
            "sulphates               0\n",
            "alcohol                 0\n",
            "quality                 0\n",
            "dtype: int64\n"
          ],
          "name": "stdout"
        }
      ]
    },
    {
      "cell_type": "code",
      "metadata": {
        "id": "K6TMZ20apa2k",
        "colab_type": "code",
        "colab": {
          "base_uri": "https://localhost:8080/",
          "height": 35
        },
        "outputId": "7826697b-17e0-4a43-ea0b-0eb45b30e91a"
      },
      "source": [
        "#training the Model\n",
        "from sklearn import linear_model\n",
        "MR = linear_model.LinearRegression()\n",
        "MR.fit(X_train, Y_train)"
      ],
      "execution_count": 9,
      "outputs": [
        {
          "output_type": "execute_result",
          "data": {
            "text/plain": [
              "LinearRegression(copy_X=True, fit_intercept=True, n_jobs=None, normalize=False)"
            ]
          },
          "metadata": {
            "tags": []
          },
          "execution_count": 9
        }
      ]
    },
    {
      "cell_type": "code",
      "metadata": {
        "id": "sZwjr09oplcM",
        "colab_type": "code",
        "colab": {
          "base_uri": "https://localhost:8080/",
          "height": 52
        },
        "outputId": "14acc9f1-edce-477f-f10e-c3b5fb2d40c0"
      },
      "source": [
        "#After EDA\n",
        "from sklearn.metrics import mean_squared_error, r2_score\n",
        "y_pred=MR.predict(X_train)\n",
        "\n",
        "print(\" R^2(VARIANCE): %.2f\" % r2_score(Y_train,y_pred))      # varience\n",
        "print(\"RMSE(Mean Squared Error): %.2f\" % mean_squared_error(Y_train,y_pred))  #squaring errors for removing negative values"
      ],
      "execution_count": 11,
      "outputs": [
        {
          "output_type": "stream",
          "text": [
            " R^2(VARIANCE): 0.39\n",
            "RMSE(Mean Squared Error): 0.42\n"
          ],
          "name": "stdout"
        }
      ]
    }
  ]
}